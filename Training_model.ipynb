{
 "cells": [
  {
   "cell_type": "code",
   "execution_count": 9,
   "id": "bf010faa",
   "metadata": {},
   "outputs": [
    {
     "name": "stdout",
     "output_type": "stream",
     "text": [
      "[started]\n",
      "Found 1186 images belonging to 10 classes.\n",
      "Epoch 1/10\n",
      "10/10 [==============================] - 28s 3s/step - loss: 3.3635 - accuracy: 0.1349\n",
      "Epoch 2/10\n",
      "10/10 [==============================] - 26s 3s/step - loss: 2.1759 - accuracy: 0.2039\n",
      "Epoch 3/10\n",
      "10/10 [==============================] - 27s 3s/step - loss: 1.8740 - accuracy: 0.3830\n",
      "Epoch 4/10\n",
      "10/10 [==============================] - 28s 3s/step - loss: 1.5453 - accuracy: 0.4990\n",
      "Epoch 5/10\n",
      "10/10 [==============================] - 28s 3s/step - loss: 1.3076 - accuracy: 0.6080\n",
      "Epoch 6/10\n",
      "10/10 [==============================] - 26s 3s/step - loss: 1.0688 - accuracy: 0.6643\n",
      "Epoch 7/10\n",
      "10/10 [==============================] - 26s 3s/step - loss: 0.9402 - accuracy: 0.7120\n",
      "Epoch 8/10\n",
      "10/10 [==============================] - 26s 3s/step - loss: 0.7583 - accuracy: 0.7769\n",
      "Epoch 9/10\n",
      "10/10 [==============================] - 28s 3s/step - loss: 0.6971 - accuracy: 0.7860\n",
      "Epoch 10/10\n",
      "10/10 [==============================] - 27s 3s/step - loss: 0.5828 - accuracy: 0.8276\n"
     ]
    }
   ],
   "source": [
    "from keras.models import Sequential\n",
    "from keras.layers import Conv2D\n",
    "from keras.layers import MaxPooling2D\n",
    "from keras.layers import Flatten\n",
    "from keras.layers import Dense\n",
    "import matplotlib.image as mpimg\n",
    "import numpy as np\n",
    "import matplotlib.pyplot as plt\n",
    "import cv2\n",
    "from keras.preprocessing import image\n",
    "from keras.preprocessing.image import ImageDataGenerator\n",
    "from keras.models import model_from_json\n",
    "import h5py\n",
    "import matplotlib.pyplot as plt\n",
    "\n",
    "print (\"[started]\")\n",
    "\n",
    "class_types_hand = ['click','fist','forward','maxmize','minimize','previous','spacebar','stop','volume_down','volumeup']\n",
    "\n",
    "# Initialising the CNN Classifier\n",
    "\n",
    "cnn_classifier_hand = Sequential()\n",
    "\n",
    "# Adding 1st Convolution Layer\n",
    "cnn_classifier_hand.add(Conv2D(100, (5, 5), input_shape = (100, 100, 3), activation = 'relu'))\n",
    "\n",
    "# Adding Pooling\n",
    "cnn_classifier_hand.add(MaxPooling2D(pool_size = (2, 2)))\n",
    "\n",
    "# Adding 2nd convolutional layer\n",
    "cnn_classifier_hand.add(Conv2D(100, (3, 3), activation = 'relu'))\n",
    "\n",
    "cnn_classifier_hand.add(MaxPooling2D(pool_size = (2, 2)))\n",
    "\n",
    "# Flattening the data\n",
    "cnn_classifier_hand.add(Flatten())\n",
    "\n",
    "# Adding Dense layers \n",
    "cnn_classifier_hand.add(Dense(units = 128, activation = 'relu'))\n",
    "\n",
    "# Adding softmax activator ( 10 indicates we have 10 different hand positons)\n",
    "\n",
    "cnn_classifier_hand.add(Dense(units = 10, activation = 'softmax'))\n",
    "\n",
    "# Compiling the CNN\n",
    "cnn_classifier_hand.compile(optimizer = 'adam', loss = 'categorical_crossentropy', metrics = ['accuracy'])\n",
    "\n",
    "# Fitting the CNN to the images\n",
    "\n",
    "trian_data = ImageDataGenerator(rescale = 1./255,shear_range = 0.2,zoom_range = 0.2,horizontal_flip = True)\n",
    "\n",
    "tarin_set = trian_data.flow_from_directory(r'C:\\Users\\Gagan\\Desktop\\Dataset_prep\\salt_pepper\\processed',\n",
    "                                                 target_size = (100, 100),\n",
    "                                                 batch_size = 100,\n",
    "                                                 class_mode = 'categorical',classes=class_types_hand)\n",
    "\n",
    "\n",
    "classify = cnn_classifier_hand.fit(tarin_set,\n",
    "                         steps_per_epoch = 10,\n",
    "                         epochs = 10)\n"
   ]
  },
  {
   "cell_type": "code",
   "execution_count": 12,
   "id": "617e776d",
   "metadata": {},
   "outputs": [
    {
     "name": "stdout",
     "output_type": "stream",
     "text": [
      "Pickle file saved\n"
     ]
    }
   ],
   "source": [
    "# Creating the Json file\n",
    "\n",
    "json_modal = cnn_classifier_hand.to_json()\n",
    "with open(\"salt_Pepper.json\", \"w\") as json_file:\n",
    "    json_file.write(json_modal)\n",
    "\n",
    "#Saving Weights\n",
    "\n",
    "cnn_classifier_hand.save_weights(\"salt_Pepper.h5\")\n",
    "\n",
    "print(\"Pickle file saved\")"
   ]
  },
  {
   "cell_type": "code",
   "execution_count": 13,
   "id": "85567c05",
   "metadata": {},
   "outputs": [
    {
     "data": {
      "image/png": "[encoded data removed]",
      "text/plain": [
       "<Figure size 432x288 with 1 Axes>"
      ]
     },
     "metadata": {
      "needs_background": "light"
     },
     "output_type": "display_data"
    }
   ],
   "source": [
    "plt.plot(history.history['accuracy'])\n",
    "plt.title('Model accuracy')\n",
    "plt.ylabel('Accuracy')\n",
    "plt.xlabel('epoch')\n",
    "plt.show()"
   ]
  },
  {
   "cell_type": "code",
   "execution_count": null,
   "id": "85dbc0df",
   "metadata": {},
   "outputs": [],
   "source": []
  }
 ],
 "metadata": {
  "kernelspec": {
   "display_name": "Python 3",
   "language": "python",
   "name": "python3"
  },
  "language_info": {
   "codemirror_mode": {
    "name": "ipython",
    "version": 3
   },
   "file_extension": ".py",
   "mimetype": "text/x-python",
   "name": "python",
   "nbconvert_exporter": "python",
   "pygments_lexer": "ipython3",
   "version": "3.8.8"
  }
 },
 "nbformat": 4,
 "nbformat_minor": 5
}
